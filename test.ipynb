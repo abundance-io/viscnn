{
 "cells": [
  {
   "cell_type": "code",
   "execution_count": 1,
   "metadata": {},
   "outputs": [],
   "source": [
    "from torch import nn \n",
    "import torch \n",
    "import math  \n",
    "import torch.nn.functional as F\n"
   ]
  },
  {
   "cell_type": "code",
   "execution_count": 15,
   "metadata": {},
   "outputs": [
    {
     "name": "stdout",
     "output_type": "stream",
     "text": [
      "torch.Size([3, 3])\n"
     ]
    }
   ],
   "source": [
    "a = torch.randn(3,3)\n",
    "b = torch.randn(3,3)\n",
    "c = a * b \n",
    "print(c.shape)"
   ]
  },
  {
   "cell_type": "code",
   "execution_count": 3,
   "metadata": {},
   "outputs": [],
   "source": [
    "a = nn.Sequential(\n",
    "    nn.Linear(256,256),\n",
    "    nn.Linear(256,456),\n",
    "    nn.ReLU(),\n",
    ")"
   ]
  },
  {
   "cell_type": "code",
   "execution_count": 16,
   "metadata": {},
   "outputs": [
    {
     "data": {
      "text/plain": [
       "tensor([[0., 0., 0.],\n",
       "        [0., 0., 0.],\n",
       "        [0., 0., 0.]])"
      ]
     },
     "execution_count": 16,
     "metadata": {},
     "output_type": "execute_result"
    }
   ],
   "source": [
    "torch.zeros(a.shape)"
   ]
  },
  {
   "cell_type": "code",
   "execution_count": 75,
   "metadata": {},
   "outputs": [],
   "source": [
    "class myRELUclass(nn.Module):\n",
    "    def __init__(self):\n",
    "         \n",
    "        super(myRELUclass,self).__init__()\n",
    "        self.relu = MyReLU.apply\n",
    "    \n",
    "\n",
    "    def forward(input):\n",
    "        return(self.relu(input))\n",
    "\n",
    "\n",
    "\n",
    "\n",
    "a = nn.Sequential(\n",
    "    nn.Linear(256,256),\n",
    "    nn.Linear(256,456),\n",
    "    nn.ReLU(),\n",
    "    myRELUclass())\n",
    "\n",
    "\n"
   ]
  },
  {
   "cell_type": "code",
   "execution_count": 47,
   "metadata": {},
   "outputs": [
    {
     "data": {
      "text/plain": [
       "<torch.utils.hooks.RemovableHandle at 0x7f64ed4d6530>"
      ]
     },
     "execution_count": 47,
     "metadata": {},
     "output_type": "execute_result"
    }
   ],
   "source": [
    "def hook_fn(module,input,output):\n",
    "    print(\"this is a gradient\")\n",
    "    for grad in input:\n",
    "        print(grad.shape)\n",
    "    for grad in output:\n",
    "        print(grad.shape) \n",
    "\n",
    "\n",
    "\n",
    "\n",
    "a.register_full_backward_hook()"
   ]
  },
  {
   "cell_type": "code",
   "execution_count": 53,
   "metadata": {},
   "outputs": [],
   "source": [
    "class MyReLU(torch.autograd.Function):\n",
    "    \"\"\"\n",
    "    We can implement our own custom autograd Functions by subclassing\n",
    "    torch.autograd.Function and implementing the forward and backward passes\n",
    "    which operate on Tensors.\n",
    "    \"\"\"\n",
    "\n",
    "    @staticmethod\n",
    "    def forward(ctx, input):\n",
    "        \"\"\"\n",
    "        In the forward pass we receive a Tensor containing the input and return\n",
    "        a Tensor containing the output. ctx is a context object that can be used\n",
    "        to stash information for backward computation. You can cache arbitrary\n",
    "        objects for use in the backward pass using the ctx.save_for_backward method.\n",
    "        \"\"\"\n",
    "        ctx.save_for_backward(input)\n",
    "        return input.clamp(min=0)\n",
    "\n",
    "    @staticmethod\n",
    "    def backward(ctx, grad_output):\n",
    "        \"\"\"\n",
    "        In the backward pass we receive a Tensor containing the gradient of the loss\n",
    "        with respect to the output, and we need to compute the gradient of the loss\n",
    "        with respect to the input.\n",
    "        \"\"\"\n",
    "        input, = ctx.saved_tensors\n",
    "        grad_input = grad_output.clone()\n",
    "        print(\"grad_input: \",grad_input)\n",
    "        grad_input[input < 0] = 0\n",
    "        return grad_input\n",
    "    \n",
    "my_relu = MyReLU.apply"
   ]
  },
  {
   "cell_type": "code",
   "execution_count": 58,
   "metadata": {},
   "outputs": [
    {
     "ename": "IndexError",
     "evalue": "index 3 is out of range",
     "output_type": "error",
     "traceback": [
      "\u001b[0;31m---------------------------------------------------------------------------\u001b[0m",
      "\u001b[0;31mIndexError\u001b[0m                                Traceback (most recent call last)",
      "\u001b[1;32m/home/abundance/visnn/test.ipynb Cell 6'\u001b[0m in \u001b[0;36m<cell line: 1>\u001b[0;34m()\u001b[0m\n\u001b[0;32m----> <a href='vscode-notebook-cell:/home/abundance/visnn/test.ipynb#ch0000006?line=0'>1</a>\u001b[0m a[\u001b[39m3\u001b[39m] \u001b[39m=\u001b[39m nn\u001b[39m.\u001b[39mReLU()\n",
      "File \u001b[0;32m~/.local/lib/python3.10/site-packages/torch/nn/modules/container.py:110\u001b[0m, in \u001b[0;36mSequential.__setitem__\u001b[0;34m(self, idx, module)\u001b[0m\n\u001b[1;32m    <a href='file:///home/abundance/.local/lib/python3.10/site-packages/torch/nn/modules/container.py?line=108'>109</a>\u001b[0m \u001b[39mdef\u001b[39;00m \u001b[39m__setitem__\u001b[39m(\u001b[39mself\u001b[39m, idx: \u001b[39mint\u001b[39m, module: Module) \u001b[39m-\u001b[39m\u001b[39m>\u001b[39m \u001b[39mNone\u001b[39;00m:\n\u001b[0;32m--> <a href='file:///home/abundance/.local/lib/python3.10/site-packages/torch/nn/modules/container.py?line=109'>110</a>\u001b[0m     key: \u001b[39mstr\u001b[39m \u001b[39m=\u001b[39m \u001b[39mself\u001b[39;49m\u001b[39m.\u001b[39;49m_get_item_by_idx(\u001b[39mself\u001b[39;49m\u001b[39m.\u001b[39;49m_modules\u001b[39m.\u001b[39;49mkeys(), idx)\n\u001b[1;32m    <a href='file:///home/abundance/.local/lib/python3.10/site-packages/torch/nn/modules/container.py?line=110'>111</a>\u001b[0m     \u001b[39mreturn\u001b[39;00m \u001b[39msetattr\u001b[39m(\u001b[39mself\u001b[39m, key, module)\n",
      "File \u001b[0;32m~/.local/lib/python3.10/site-packages/torch/nn/modules/container.py:98\u001b[0m, in \u001b[0;36mSequential._get_item_by_idx\u001b[0;34m(self, iterator, idx)\u001b[0m\n\u001b[1;32m     <a href='file:///home/abundance/.local/lib/python3.10/site-packages/torch/nn/modules/container.py?line=95'>96</a>\u001b[0m idx \u001b[39m=\u001b[39m operator\u001b[39m.\u001b[39mindex(idx)\n\u001b[1;32m     <a href='file:///home/abundance/.local/lib/python3.10/site-packages/torch/nn/modules/container.py?line=96'>97</a>\u001b[0m \u001b[39mif\u001b[39;00m \u001b[39mnot\u001b[39;00m \u001b[39m-\u001b[39msize \u001b[39m<\u001b[39m\u001b[39m=\u001b[39m idx \u001b[39m<\u001b[39m size:\n\u001b[0;32m---> <a href='file:///home/abundance/.local/lib/python3.10/site-packages/torch/nn/modules/container.py?line=97'>98</a>\u001b[0m     \u001b[39mraise\u001b[39;00m \u001b[39mIndexError\u001b[39;00m(\u001b[39m'\u001b[39m\u001b[39mindex \u001b[39m\u001b[39m{}\u001b[39;00m\u001b[39m is out of range\u001b[39m\u001b[39m'\u001b[39m\u001b[39m.\u001b[39mformat(idx))\n\u001b[1;32m     <a href='file:///home/abundance/.local/lib/python3.10/site-packages/torch/nn/modules/container.py?line=98'>99</a>\u001b[0m idx \u001b[39m%\u001b[39m\u001b[39m=\u001b[39m size\n\u001b[1;32m    <a href='file:///home/abundance/.local/lib/python3.10/site-packages/torch/nn/modules/container.py?line=99'>100</a>\u001b[0m \u001b[39mreturn\u001b[39;00m \u001b[39mnext\u001b[39m(islice(iterator, idx, \u001b[39mNone\u001b[39;00m))\n",
      "\u001b[0;31mIndexError\u001b[0m: index 3 is out of range"
     ]
    }
   ],
   "source": [
    "a[3] = nn.ReLU()"
   ]
  },
  {
   "cell_type": "code",
   "execution_count": 35,
   "metadata": {},
   "outputs": [
    {
     "data": {
      "image/png": "[encoded data removed]",
      "text/plain": [
       "<Figure size 3240x3240 with 5 Axes>"
      ]
     },
     "metadata": {
      "needs_background": "light"
     },
     "output_type": "display_data"
    }
   ],
   "source": [
    "fig_square = len(randn_no) * math.floor(7/2) **2\n",
    "plt.figure(figsize=(fig_square,fig_square))\n",
    "\n",
    "for index,item in enumerate(randn_no):\n",
    "    plt.subplot(7,7,index + 1)\n",
    "    plt.imshow(item.detach(),cmap=\"Spectral\")\n",
    "\n",
    "\n",
    "for index,item in enumerate(randn_no):\n",
    "    plt.subplot(7,7,index + 1)\n",
    "    plt.imshow(item.detach(),cmap=\"Spectral\")\n",
    "\n"
   ]
  }
 ],
 "metadata": {
  "interpreter": {
   "hash": "e7370f93d1d0cde622a1f8e1c04877d8463912d04d973331ad4851f04de6915a"
  },
  "kernelspec": {
   "display_name": "Python 3.10.4 64-bit",
   "language": "python",
   "name": "python3"
  },
  "language_info": {
   "codemirror_mode": {
    "name": "ipython",
    "version": 3
   },
   "file_extension": ".py",
   "mimetype": "text/x-python",
   "name": "python",
   "nbconvert_exporter": "python",
   "pygments_lexer": "ipython3",
   "version": "3.10.4"
  },
  "orig_nbformat": 4
 },
 "nbformat": 4,
 "nbformat_minor": 2
}
